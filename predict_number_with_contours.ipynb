{
  "nbformat": 4,
  "nbformat_minor": 0,
  "metadata": {
    "colab": {
      "name": "predict_number_with_contours.ipynb",
      "provenance": [],
      "collapsed_sections": [],
      "authorship_tag": "ABX9TyOQ5C4HK3HOCK9zjdMlNA1U",
      "include_colab_link": true
    },
    "kernelspec": {
      "name": "python3",
      "display_name": "Python 3"
    },
    "language_info": {
      "name": "python"
    },
    "accelerator": "GPU"
  },
  "cells": [
    {
      "cell_type": "markdown",
      "metadata": {
        "id": "view-in-github",
        "colab_type": "text"
      },
      "source": [
        "<a href=\"https://colab.research.google.com/github/971933018/Predict-Numbers-in-a-Picture-NN-/blob/main/predict_number_with_contours.ipynb\" target=\"_parent\"><img src=\"https://colab.research.google.com/assets/colab-badge.svg\" alt=\"Open In Colab\"/></a>"
      ]
    },
    {
      "cell_type": "code",
      "execution_count": 1,
      "metadata": {
        "id": "4lgkNrzXXPC6"
      },
      "outputs": [],
      "source": [
        "import cv2 \n",
        "import numpy as np \n",
        "import matplotlib.pyplot as plt \n",
        "import tensorflow \n",
        "from tensorflow import keras \n",
        "from keras.models import Sequential \n",
        "from keras.layers import Dense  , Conv2D , MaxPooling2D , BatchNormalization , Dropout , Flatten \n",
        "from keras.datasets import mnist \n",
        "from sklearn.model_selection import train_test_split \n",
        "from sklearn.preprocessing import LabelEncoder \n",
        "from sklearn.metrics import accuracy_score \n",
        "from tensorflow.keras.utils import to_categorical \n",
        "from tensorflow.keras.optimizers import Adam "
      ]
    },
    {
      "cell_type": "code",
      "source": [
        "(x_train , y_train ) , (x_test , y_test ) = mnist.load_data()\n",
        "x_train = x_train.astype(\"float\") \n",
        "x_test = x_test.astype(\"float\")\n",
        "x_train = x_train / 255.0 \n",
        "x_test = x_test / 255.0 "
      ],
      "metadata": {
        "id": "u_Rxurl6XjYK"
      },
      "execution_count": 16,
      "outputs": []
    },
    {
      "cell_type": "code",
      "source": [
        "print(x_train.shape )\n",
        "print(x_test.shape )"
      ],
      "metadata": {
        "colab": {
          "base_uri": "https://localhost:8080/"
        },
        "id": "CJyFb-QJYxaW",
        "outputId": "972b68ea-6b6c-472c-9078-0f72b257b16e"
      },
      "execution_count": 17,
      "outputs": [
        {
          "output_type": "stream",
          "name": "stdout",
          "text": [
            "(60000, 28, 28)\n",
            "(10000, 28, 28)\n"
          ]
        }
      ]
    },
    {
      "cell_type": "code",
      "source": [
        "x_train_copy = x_train.copy()\n",
        "x_test_copy  = x_test.copy() "
      ],
      "metadata": {
        "id": "xqERRVa2ZcRZ"
      },
      "execution_count": 18,
      "outputs": []
    },
    {
      "cell_type": "code",
      "source": [
        "x_train = x_train.reshape(-1 , 28 , 28 , 1 )\n",
        "x_test  = x_test.reshape(-1 , 28 , 28 , 1 )"
      ],
      "metadata": {
        "id": "8eMBVq8lY9Cd"
      },
      "execution_count": 19,
      "outputs": []
    },
    {
      "cell_type": "code",
      "source": [
        "print(x_train.shape )\n",
        "print(x_test.shape )"
      ],
      "metadata": {
        "colab": {
          "base_uri": "https://localhost:8080/"
        },
        "id": "lqj85vx7ZMUq",
        "outputId": "5e5a647d-8b15-4d2d-e52b-2ef1bf137647"
      },
      "execution_count": 20,
      "outputs": [
        {
          "output_type": "stream",
          "name": "stdout",
          "text": [
            "(60000, 28, 28, 1)\n",
            "(10000, 28, 28, 1)\n"
          ]
        }
      ]
    },
    {
      "cell_type": "code",
      "source": [
        "print(y_train.shape)\n",
        "print(y_test.shape)"
      ],
      "metadata": {
        "colab": {
          "base_uri": "https://localhost:8080/"
        },
        "id": "SJWPjlqIZN06",
        "outputId": "a3856526-91c8-493d-f9dd-9da0e7552556"
      },
      "execution_count": 21,
      "outputs": [
        {
          "output_type": "stream",
          "name": "stdout",
          "text": [
            "(60000,)\n",
            "(10000,)\n"
          ]
        }
      ]
    },
    {
      "cell_type": "code",
      "source": [
        "y_train = y_train.reshape(-1 , 1 )\n",
        "y_test = y_test.reshape(-1 , 1 )"
      ],
      "metadata": {
        "id": "CsxXN-_iZsWg"
      },
      "execution_count": 22,
      "outputs": []
    },
    {
      "cell_type": "code",
      "source": [
        "y_train_copy = y_train.copy()\n",
        "y_test_copy = y_test.copy()"
      ],
      "metadata": {
        "id": "7AmqU8qrZst2"
      },
      "execution_count": 23,
      "outputs": []
    },
    {
      "cell_type": "code",
      "source": [
        "print(y_train[:10])\n",
        "print(\"--\"*20)\n",
        "print(y_test[:10])\n"
      ],
      "metadata": {
        "colab": {
          "base_uri": "https://localhost:8080/"
        },
        "id": "mdBUyHHPZ_LC",
        "outputId": "e1f613bc-2b2b-46dd-f645-f11065edbc6a"
      },
      "execution_count": 24,
      "outputs": [
        {
          "output_type": "stream",
          "name": "stdout",
          "text": [
            "[[5]\n",
            " [0]\n",
            " [4]\n",
            " [1]\n",
            " [9]\n",
            " [2]\n",
            " [1]\n",
            " [3]\n",
            " [1]\n",
            " [4]]\n",
            "----------------------------------------\n",
            "[[7]\n",
            " [2]\n",
            " [1]\n",
            " [0]\n",
            " [4]\n",
            " [1]\n",
            " [4]\n",
            " [9]\n",
            " [5]\n",
            " [9]]\n"
          ]
        }
      ]
    },
    {
      "cell_type": "code",
      "source": [
        "y_train = to_categorical(y_train , 10 )\n",
        "y_test = to_categorical(y_test , 10 )"
      ],
      "metadata": {
        "id": "30q4oYksZUOI"
      },
      "execution_count": 25,
      "outputs": []
    },
    {
      "cell_type": "code",
      "source": [
        "y_train[:10]"
      ],
      "metadata": {
        "colab": {
          "base_uri": "https://localhost:8080/"
        },
        "id": "6hTBkEhAZYy2",
        "outputId": "c6647819-5d05-454d-f958-f7c524d55b28"
      },
      "execution_count": 26,
      "outputs": [
        {
          "output_type": "execute_result",
          "data": {
            "text/plain": [
              "array([[0., 0., 0., 0., 0., 1., 0., 0., 0., 0.],\n",
              "       [1., 0., 0., 0., 0., 0., 0., 0., 0., 0.],\n",
              "       [0., 0., 0., 0., 1., 0., 0., 0., 0., 0.],\n",
              "       [0., 1., 0., 0., 0., 0., 0., 0., 0., 0.],\n",
              "       [0., 0., 0., 0., 0., 0., 0., 0., 0., 1.],\n",
              "       [0., 0., 1., 0., 0., 0., 0., 0., 0., 0.],\n",
              "       [0., 1., 0., 0., 0., 0., 0., 0., 0., 0.],\n",
              "       [0., 0., 0., 1., 0., 0., 0., 0., 0., 0.],\n",
              "       [0., 1., 0., 0., 0., 0., 0., 0., 0., 0.],\n",
              "       [0., 0., 0., 0., 1., 0., 0., 0., 0., 0.]], dtype=float32)"
            ]
          },
          "metadata": {},
          "execution_count": 26
        }
      ]
    },
    {
      "cell_type": "code",
      "source": [
        "print(y_train.shape)"
      ],
      "metadata": {
        "colab": {
          "base_uri": "https://localhost:8080/"
        },
        "id": "yp6xZpeOZl5p",
        "outputId": "4480d8eb-b701-49ec-be5f-8100519da245"
      },
      "execution_count": 27,
      "outputs": [
        {
          "output_type": "stream",
          "name": "stdout",
          "text": [
            "(60000, 10)\n"
          ]
        }
      ]
    },
    {
      "cell_type": "code",
      "source": [
        "y_test[:10]"
      ],
      "metadata": {
        "colab": {
          "base_uri": "https://localhost:8080/"
        },
        "id": "RfkuZ5lMZo0G",
        "outputId": "bb92b513-96a0-4c93-9f24-cf1134e4f7f7"
      },
      "execution_count": 28,
      "outputs": [
        {
          "output_type": "execute_result",
          "data": {
            "text/plain": [
              "array([[0., 0., 0., 0., 0., 0., 0., 1., 0., 0.],\n",
              "       [0., 0., 1., 0., 0., 0., 0., 0., 0., 0.],\n",
              "       [0., 1., 0., 0., 0., 0., 0., 0., 0., 0.],\n",
              "       [1., 0., 0., 0., 0., 0., 0., 0., 0., 0.],\n",
              "       [0., 0., 0., 0., 1., 0., 0., 0., 0., 0.],\n",
              "       [0., 1., 0., 0., 0., 0., 0., 0., 0., 0.],\n",
              "       [0., 0., 0., 0., 1., 0., 0., 0., 0., 0.],\n",
              "       [0., 0., 0., 0., 0., 0., 0., 0., 0., 1.],\n",
              "       [0., 0., 0., 0., 0., 1., 0., 0., 0., 0.],\n",
              "       [0., 0., 0., 0., 0., 0., 0., 0., 0., 1.]], dtype=float32)"
            ]
          },
          "metadata": {},
          "execution_count": 28
        }
      ]
    },
    {
      "cell_type": "code",
      "source": [
        "models = Sequential([\n",
        "                     Conv2D(100 , (3,3) , activation=\"relu\" , padding=\"same\" , input_shape = x_train.shape[1:] ) , \n",
        "                     BatchNormalization() , \n",
        "                     Conv2D(80 , (3,3) , activation=\"relu\" , padding=\"same\"  ) , \n",
        "                     BatchNormalization() , \n",
        "                     MaxPooling2D(pool_size = (2,2)) , \n",
        "\n",
        "\n",
        "                     Conv2D(60 , (3,3) , activation=\"relu\" , padding=\"same\" ) , \n",
        "                     BatchNormalization() , \n",
        "                     Conv2D(40 , (3,3) , activation=\"relu\" , padding=\"same\") , \n",
        "                     BatchNormalization() , \n",
        "                     MaxPooling2D(pool_size = (2,2)) , \n",
        "\n",
        "                     Conv2D(30 , (3,3) , activation=\"relu\" , padding=\"same\" ) , \n",
        "                     BatchNormalization() , \n",
        "                     Conv2D(20 , (3,3) , activation=\"relu\"  , padding=\"same\") , \n",
        "                     BatchNormalization() , \n",
        "                     MaxPooling2D(pool_size = (2,2)) , \n",
        "\n",
        "\n",
        "                    Flatten() , \n",
        "                    \n",
        "                    Dense(128 , activation=\"relu\" ) , \n",
        "                    BatchNormalization() , \n",
        "                    Dropout(0.2) , \n",
        "\n",
        "                    Dense(50 , activation=\"relu\" ) , \n",
        "                    BatchNormalization() , \n",
        "                    Dropout(0.2) , \n",
        "\n",
        "\n",
        "                    Dense(30 , activation=\"relu\" ) , \n",
        "                    BatchNormalization() , \n",
        "                    Dropout(0.2) , \n",
        "                     \n",
        "                    Dense(20 , activation=\"relu\" ) , \n",
        "                    BatchNormalization() , \n",
        "                    Dropout(0.2) , \n",
        "                    Dense(10 , activation = \"softmax\")\n",
        "\n",
        "\n",
        "])"
      ],
      "metadata": {
        "id": "YxrL4fv1ZuJD"
      },
      "execution_count": 30,
      "outputs": []
    },
    {
      "cell_type": "code",
      "source": [
        "models.compile(Adam(learning_rate=0.01 , decay = 0.01 / 25 ) , loss='categorical_crossentropy' , metrics = \"acc\")\n",
        "alis = models.fit(x_train , y_train , epochs = 30 , batch_size=200 , validation_split= 0.2 )"
      ],
      "metadata": {
        "colab": {
          "base_uri": "https://localhost:8080/"
        },
        "id": "stR2g1c0bdij",
        "outputId": "0aa54137-03f3-4c9a-c785-0652b04d893b"
      },
      "execution_count": 31,
      "outputs": [
        {
          "output_type": "stream",
          "name": "stdout",
          "text": [
            "Epoch 1/30\n",
            "240/240 [==============================] - 36s 86ms/step - loss: 0.3725 - acc: 0.8925 - val_loss: 1.8425 - val_acc: 0.6119\n",
            "Epoch 2/30\n",
            "240/240 [==============================] - 19s 79ms/step - loss: 0.1008 - acc: 0.9753 - val_loss: 0.1656 - val_acc: 0.9578\n",
            "Epoch 3/30\n",
            "240/240 [==============================] - 19s 81ms/step - loss: 0.0708 - acc: 0.9827 - val_loss: 0.0634 - val_acc: 0.9840\n",
            "Epoch 4/30\n",
            "240/240 [==============================] - 19s 80ms/step - loss: 0.0587 - acc: 0.9861 - val_loss: 0.0844 - val_acc: 0.9820\n",
            "Epoch 5/30\n",
            "240/240 [==============================] - 19s 80ms/step - loss: 0.0463 - acc: 0.9886 - val_loss: 0.0401 - val_acc: 0.9910\n",
            "Epoch 6/30\n",
            "240/240 [==============================] - 19s 80ms/step - loss: 0.0421 - acc: 0.9898 - val_loss: 0.0420 - val_acc: 0.9912\n",
            "Epoch 7/30\n",
            "240/240 [==============================] - 19s 80ms/step - loss: 0.0364 - acc: 0.9910 - val_loss: 0.0406 - val_acc: 0.9917\n",
            "Epoch 8/30\n",
            "240/240 [==============================] - 19s 81ms/step - loss: 0.0326 - acc: 0.9919 - val_loss: 0.0356 - val_acc: 0.9918\n",
            "Epoch 9/30\n",
            "240/240 [==============================] - 19s 81ms/step - loss: 0.0309 - acc: 0.9923 - val_loss: 0.0394 - val_acc: 0.9912\n",
            "Epoch 10/30\n",
            "240/240 [==============================] - 19s 81ms/step - loss: 0.0263 - acc: 0.9938 - val_loss: 0.0325 - val_acc: 0.9924\n",
            "Epoch 11/30\n",
            "240/240 [==============================] - 19s 80ms/step - loss: 0.0239 - acc: 0.9939 - val_loss: 0.0657 - val_acc: 0.9837\n",
            "Epoch 12/30\n",
            "240/240 [==============================] - 19s 81ms/step - loss: 0.0200 - acc: 0.9948 - val_loss: 0.0502 - val_acc: 0.9903\n",
            "Epoch 13/30\n",
            "240/240 [==============================] - 19s 81ms/step - loss: 0.0182 - acc: 0.9954 - val_loss: 0.0418 - val_acc: 0.9914\n",
            "Epoch 14/30\n",
            "240/240 [==============================] - 19s 80ms/step - loss: 0.0181 - acc: 0.9952 - val_loss: 0.0459 - val_acc: 0.9895\n",
            "Epoch 15/30\n",
            "240/240 [==============================] - 19s 80ms/step - loss: 0.0170 - acc: 0.9951 - val_loss: 0.0346 - val_acc: 0.9927\n",
            "Epoch 16/30\n",
            "240/240 [==============================] - 19s 80ms/step - loss: 0.0143 - acc: 0.9966 - val_loss: 0.0486 - val_acc: 0.9900\n",
            "Epoch 17/30\n",
            "240/240 [==============================] - 19s 81ms/step - loss: 0.0166 - acc: 0.9959 - val_loss: 0.0436 - val_acc: 0.9902\n",
            "Epoch 18/30\n",
            "240/240 [==============================] - 19s 81ms/step - loss: 0.0137 - acc: 0.9967 - val_loss: 0.0473 - val_acc: 0.9908\n",
            "Epoch 19/30\n",
            "240/240 [==============================] - 20s 81ms/step - loss: 0.0146 - acc: 0.9966 - val_loss: 0.0535 - val_acc: 0.9892\n",
            "Epoch 20/30\n",
            "240/240 [==============================] - 20s 81ms/step - loss: 0.0134 - acc: 0.9969 - val_loss: 0.0355 - val_acc: 0.9934\n",
            "Epoch 21/30\n",
            "240/240 [==============================] - 20s 82ms/step - loss: 0.0116 - acc: 0.9972 - val_loss: 0.0450 - val_acc: 0.9910\n",
            "Epoch 22/30\n",
            "240/240 [==============================] - 20s 81ms/step - loss: 0.0105 - acc: 0.9973 - val_loss: 0.0522 - val_acc: 0.9896\n",
            "Epoch 23/30\n",
            "240/240 [==============================] - 19s 80ms/step - loss: 0.0104 - acc: 0.9974 - val_loss: 0.0389 - val_acc: 0.9931\n",
            "Epoch 24/30\n",
            "240/240 [==============================] - 19s 80ms/step - loss: 0.0074 - acc: 0.9982 - val_loss: 0.0382 - val_acc: 0.9931\n",
            "Epoch 25/30\n",
            "240/240 [==============================] - 19s 80ms/step - loss: 0.0092 - acc: 0.9979 - val_loss: 0.0491 - val_acc: 0.9910\n",
            "Epoch 26/30\n",
            "240/240 [==============================] - 19s 80ms/step - loss: 0.0105 - acc: 0.9973 - val_loss: 0.0515 - val_acc: 0.9902\n",
            "Epoch 27/30\n",
            "240/240 [==============================] - 19s 80ms/step - loss: 0.0111 - acc: 0.9973 - val_loss: 0.0518 - val_acc: 0.9908\n",
            "Epoch 28/30\n",
            "240/240 [==============================] - 19s 81ms/step - loss: 0.0079 - acc: 0.9980 - val_loss: 0.0428 - val_acc: 0.9912\n",
            "Epoch 29/30\n",
            "240/240 [==============================] - 19s 81ms/step - loss: 0.0078 - acc: 0.9982 - val_loss: 0.0465 - val_acc: 0.9922\n",
            "Epoch 30/30\n",
            "240/240 [==============================] - 19s 80ms/step - loss: 0.0075 - acc: 0.9983 - val_loss: 0.0431 - val_acc: 0.9918\n"
          ]
        }
      ]
    },
    {
      "cell_type": "code",
      "source": [
        "plt.plot(range(30) , alis.history[\"loss\"] , label =\"loss\" )\n",
        "plt.plot(range(30) , alis.history[\"val_loss\"] , label =\"val_loss\" )\n",
        "plt.legend()\n",
        "plt.grid()\n",
        "plt.show()\n"
      ],
      "metadata": {
        "colab": {
          "base_uri": "https://localhost:8080/",
          "height": 265
        },
        "id": "oaHvBXVkfij7",
        "outputId": "b33d10a1-af49-4597-ce13-bf7a3cbb1227"
      },
      "execution_count": 33,
      "outputs": [
        {
          "output_type": "display_data",
          "data": {
            "text/plain": [
              "<Figure size 432x288 with 1 Axes>"
            ],
            "image/png": "[encoded data removed]"
          },
          "metadata": {
            "needs_background": "light"
          }
        }
      ]
    },
    {
      "cell_type": "code",
      "source": [
        "plt.plot(range(30) , alis.history[\"acc\"] , label =\"acc\" )\n",
        "plt.plot(range(30) , alis.history[\"val_acc\"] , label =\"val_acc\" )\n",
        "plt.legend()\n",
        "plt.grid()\n",
        "plt.show()"
      ],
      "metadata": {
        "colab": {
          "base_uri": "https://localhost:8080/",
          "height": 265
        },
        "id": "2BheDJzwgKrD",
        "outputId": "a374be67-034a-4d27-b518-aa84e5172820"
      },
      "execution_count": 34,
      "outputs": [
        {
          "output_type": "display_data",
          "data": {
            "text/plain": [
              "<Figure size 432x288 with 1 Axes>"
            ],
            "image/png": "[encoded data removed]"
          },
          "metadata": {
            "needs_background": "light"
          }
        }
      ]
    },
    {
      "cell_type": "code",
      "source": [
        "models.evaluate(x_test , y_test )"
      ],
      "metadata": {
        "colab": {
          "base_uri": "https://localhost:8080/"
        },
        "id": "dm6JQLgygi71",
        "outputId": "6cd2e3b2-9a92-4205-b720-5be8cfd4e3af"
      },
      "execution_count": 35,
      "outputs": [
        {
          "output_type": "stream",
          "name": "stdout",
          "text": [
            "313/313 [==============================] - 4s 10ms/step - loss: 0.0339 - acc: 0.9937\n"
          ]
        },
        {
          "output_type": "execute_result",
          "data": {
            "text/plain": [
              "[0.033941660076379776, 0.9937000274658203]"
            ]
          },
          "metadata": {},
          "execution_count": 35
        }
      ]
    },
    {
      "cell_type": "code",
      "source": [
        "models.input "
      ],
      "metadata": {
        "colab": {
          "base_uri": "https://localhost:8080/"
        },
        "id": "ssplteCRgjD0",
        "outputId": "4f895fa1-97b3-4c5e-c985-92ff94b112a0"
      },
      "execution_count": 36,
      "outputs": [
        {
          "output_type": "execute_result",
          "data": {
            "text/plain": [
              "<KerasTensor: shape=(None, 28, 28, 1) dtype=float32 (created by layer 'conv2d_6_input')>"
            ]
          },
          "metadata": {},
          "execution_count": 36
        }
      ]
    },
    {
      "cell_type": "code",
      "source": [
        "y_pre_test = models.predict(x_test)"
      ],
      "metadata": {
        "id": "9yXrZd-WgyzT"
      },
      "execution_count": 40,
      "outputs": []
    },
    {
      "cell_type": "code",
      "source": [
        "list_10 = []\n",
        "for i in y_pre_test : \n",
        "  t = np.argmax(i)\n",
        "  list_10.append(t) "
      ],
      "metadata": {
        "id": "usfpiKRcgrFY"
      },
      "execution_count": 41,
      "outputs": []
    },
    {
      "cell_type": "code",
      "source": [
        "list_10 = np.array(list_10)\n",
        "list_10 = list_10.reshape(-1 , 1 )\n",
        "print(accuracy_score(y_test_copy , list_10))"
      ],
      "metadata": {
        "colab": {
          "base_uri": "https://localhost:8080/"
        },
        "id": "B-VN-bpdh5Z2",
        "outputId": "52a81f44-2247-4299-805c-acbd498135db"
      },
      "execution_count": 44,
      "outputs": [
        {
          "output_type": "stream",
          "name": "stdout",
          "text": [
            "0.9937\n"
          ]
        }
      ]
    },
    {
      "cell_type": "code",
      "source": [
        "new = []\n",
        "new.append(x_test_copy[0])\n",
        "new = np.array(new)"
      ],
      "metadata": {
        "id": "smMKZJMeh5gq"
      },
      "execution_count": 54,
      "outputs": []
    },
    {
      "cell_type": "code",
      "source": [
        "new.shape"
      ],
      "metadata": {
        "colab": {
          "base_uri": "https://localhost:8080/"
        },
        "id": "m4jeXloReMkK",
        "outputId": "64a0e236-b69d-4582-f7d3-b37d59a1289c"
      },
      "execution_count": 55,
      "outputs": [
        {
          "output_type": "execute_result",
          "data": {
            "text/plain": [
              "(1, 28, 28)"
            ]
          },
          "metadata": {},
          "execution_count": 55
        }
      ]
    },
    {
      "cell_type": "code",
      "source": [
        "plt.imshow(new[0])\n",
        "print(\"label is : \" , y_test_copy[0])\n",
        "plt.show()"
      ],
      "metadata": {
        "colab": {
          "base_uri": "https://localhost:8080/",
          "height": 282
        },
        "id": "wR7wh6N-eMml",
        "outputId": "ca4c91d0-e4f1-426a-b46c-bcb460d71147"
      },
      "execution_count": 58,
      "outputs": [
        {
          "output_type": "stream",
          "name": "stdout",
          "text": [
            "label is :  [7]\n"
          ]
        },
        {
          "output_type": "display_data",
          "data": {
            "text/plain": [
              "<Figure size 432x288 with 1 Axes>"
            ],
            "image/png": "[encoded data removed]"
          },
          "metadata": {
            "needs_background": "light"
          }
        }
      ]
    },
    {
      "cell_type": "code",
      "source": [
        "models.input"
      ],
      "metadata": {
        "colab": {
          "base_uri": "https://localhost:8080/"
        },
        "id": "5vCwLGHLiaNC",
        "outputId": "a4e609b0-ef09-40c5-86b4-740765b766f0"
      },
      "execution_count": 59,
      "outputs": [
        {
          "output_type": "execute_result",
          "data": {
            "text/plain": [
              "<KerasTensor: shape=(None, 28, 28, 1) dtype=float32 (created by layer 'conv2d_6_input')>"
            ]
          },
          "metadata": {},
          "execution_count": 59
        }
      ]
    },
    {
      "cell_type": "code",
      "source": [
        "new = new.reshape( -1 , 28 , 28 , 1 )"
      ],
      "metadata": {
        "id": "-0gUoJY0ef88"
      },
      "execution_count": 60,
      "outputs": []
    },
    {
      "cell_type": "code",
      "source": [
        "predict = models.predict(new)\n",
        "print(\"real label is : \" , y_test_copy[0])\n",
        "print(\"predicted label is : \" , np.argmax(predict) )"
      ],
      "metadata": {
        "colab": {
          "base_uri": "https://localhost:8080/"
        },
        "id": "uLAq1Z7AiaKg",
        "outputId": "f97d3ffd-9ee3-4d22-ebe9-2773ff502a9a"
      },
      "execution_count": 62,
      "outputs": [
        {
          "output_type": "stream",
          "name": "stdout",
          "text": [
            "real label is :  [7]\n",
            "predicted label is :  7\n"
          ]
        }
      ]
    },
    {
      "cell_type": "markdown",
      "source": [
        ""
      ],
      "metadata": {
        "id": "OYd_bY9e2DuT"
      }
    },
    {
      "cell_type": "code",
      "source": [
        "img = cv2.imread(\"/content/numbers.png\" , 0  )\n"
      ],
      "metadata": {
        "id": "-6ZDv5MCiaPd"
      },
      "execution_count": 175,
      "outputs": []
    },
    {
      "cell_type": "markdown",
      "source": [
        "You Show a Picture *italicized text*"
      ],
      "metadata": {
        "id": "gtDdBqBZ2H6F"
      }
    },
    {
      "cell_type": "code",
      "source": [
        "plt.imshow(img , cmap=\"gray\")\n",
        "plt.show()"
      ],
      "metadata": {
        "colab": {
          "base_uri": "https://localhost:8080/",
          "height": 269
        },
        "id": "C_G1YQ8rxBLP",
        "outputId": "9df8d0b3-ce14-4e48-fa8b-a7fbad9ee55c"
      },
      "execution_count": 177,
      "outputs": [
        {
          "output_type": "display_data",
          "data": {
            "text/plain": [
              "<Figure size 432x288 with 1 Axes>"
            ],
            "image/png": "[encoded data removed]"
          },
          "metadata": {
            "needs_background": "light"
          }
        }
      ]
    },
    {
      "cell_type": "code",
      "source": [
        "\n",
        "edege = cv2.Canny(img , 100 , 255 )\n",
        "\n",
        "contours , _ = cv2.findContours(edege , cv2.RETR_EXTERNAL , cv2.CHAIN_APPROX_SIMPLE  )\n",
        "\n",
        "list_picture = []\n",
        "\n",
        "for i in contours : \n",
        "  x , y , w , h = cv2.boundingRect(i)\n",
        "  img_crup  = img[y-10:y+h+10 , x-10 : x+w+10 ]\n",
        "  img_crup  =( 255 - img_crup  ) \n",
        "  img_crup  = cv2.resize(img_crup , (28 ,28 ))\n",
        "  list_picture.append(img_crup)\n",
        "\n",
        "\n",
        "\n"
      ],
      "metadata": {
        "id": "6tTmemk8dfHE"
      },
      "execution_count": 144,
      "outputs": []
    },
    {
      "cell_type": "code",
      "source": [
        ""
      ],
      "metadata": {
        "id": "52arVu23qvhI"
      },
      "execution_count": 144,
      "outputs": []
    },
    {
      "cell_type": "code",
      "source": [
        ""
      ],
      "metadata": {
        "id": "OP2MfFRppvEQ"
      },
      "execution_count": 144,
      "outputs": []
    },
    {
      "cell_type": "code",
      "source": [
        "for i in list_picture : \n",
        "  plt.imshow(i , cmap=\"gray\")\n",
        "  plt.show()\n",
        "  print('------' * 20 )\n",
        "  plt.hist(i.ravel() , 256 , [0,256])\n",
        "  break "
      ],
      "metadata": {
        "colab": {
          "base_uri": "https://localhost:8080/",
          "height": 530
        },
        "id": "kcVeuTtWgC8I",
        "outputId": "9a0ddff7-07d7-4285-95f2-525ecde9d756"
      },
      "execution_count": 145,
      "outputs": [
        {
          "output_type": "display_data",
          "data": {
            "text/plain": [
              "<Figure size 432x288 with 1 Axes>"
            ],
            "image/png": "[encoded data removed]"
          },
          "metadata": {
            "needs_background": "light"
          }
        },
        {
          "output_type": "stream",
          "name": "stdout",
          "text": [
            "------------------------------------------------------------------------------------------------------------------------\n"
          ]
        },
        {
          "output_type": "display_data",
          "data": {
            "text/plain": [
              "<Figure size 432x288 with 1 Axes>"
            ],
            "image/png": "[encoded data removed]"
          },
          "metadata": {
            "needs_background": "light"
          }
        }
      ]
    },
    {
      "cell_type": "code",
      "source": [
        "plt.imshow(x_train_copy[12] , cmap=\"gray\" ) \n",
        "print(\"label is : \" , y_train_copy[12])\n",
        "plt.show()"
      ],
      "metadata": {
        "colab": {
          "base_uri": "https://localhost:8080/",
          "height": 282
        },
        "id": "Ddg1sUbKgkXb",
        "outputId": "d41b6358-2fee-419d-d0a1-e316953140ee"
      },
      "execution_count": 96,
      "outputs": [
        {
          "output_type": "stream",
          "name": "stdout",
          "text": [
            "label is :  [3]\n"
          ]
        },
        {
          "output_type": "display_data",
          "data": {
            "text/plain": [
              "<Figure size 432x288 with 1 Axes>"
            ],
            "image/png": "[encoded data removed]"
          },
          "metadata": {
            "needs_background": "light"
          }
        }
      ]
    },
    {
      "cell_type": "code",
      "source": [
        "plt.imshow(list_picture[1] , cmap=\"gray\")\n",
        "plt.show()"
      ],
      "metadata": {
        "colab": {
          "base_uri": "https://localhost:8080/",
          "height": 265
        },
        "id": "jAikf3X4gkZw",
        "outputId": "bf82bb49-43e0-4588-e7b1-88ab3af06a99"
      },
      "execution_count": 155,
      "outputs": [
        {
          "output_type": "display_data",
          "data": {
            "text/plain": [
              "<Figure size 432x288 with 1 Axes>"
            ],
            "image/png": "[encoded data removed]"
          },
          "metadata": {
            "needs_background": "light"
          }
        }
      ]
    },
    {
      "cell_type": "code",
      "source": [
        "plt.hist(list_picture[1].ravel() , 256 , [0,256])\n",
        "plt.show()\n"
      ],
      "metadata": {
        "colab": {
          "base_uri": "https://localhost:8080/",
          "height": 265
        },
        "id": "JJaw7krVgkcD",
        "outputId": "fb104ec5-6193-4062-8687-de17defe74f8"
      },
      "execution_count": 157,
      "outputs": [
        {
          "output_type": "display_data",
          "data": {
            "text/plain": [
              "<Figure size 432x288 with 1 Axes>"
            ],
            "image/png": "[encoded data removed]"
          },
          "metadata": {
            "needs_background": "light"
          }
        }
      ]
    },
    {
      "cell_type": "code",
      "source": [
        ""
      ],
      "metadata": {
        "id": "dES-q3GDgDEp"
      },
      "execution_count": 111,
      "outputs": []
    },
    {
      "cell_type": "code",
      "source": [
        "for i in range(10) : \n",
        "  plt.subplot(10 , 1 , i+1 )\n",
        "  #_ , thre = cv2.threshold(i , 50 , 255 , cv2.THRESH_BINARY )\n",
        "  new_list = []\n",
        "  new_list.append(list_picture[i] )\n",
        "  new_list = np.array(new_list)\n",
        "  new_list = new_list.reshape( -1 , 28 , 28 , 1 )\n",
        "  predicted = models.predict(new_list)\n",
        "  items = np.argmax(predicted)\n",
        "  plt.imshow(list_picture[i])\n",
        "  print(\"Label predicted is : \" , items )\n",
        "  \n",
        "\n",
        "  plt.show() \n",
        "  print(\"---\" * 20 )"
      ],
      "metadata": {
        "colab": {
          "base_uri": "https://localhost:8080/",
          "height": 894
        },
        "id": "2ZerfK6Sf2nC",
        "outputId": "e5a35c8b-9138-47e5-97b5-8ef108516c2e"
      },
      "execution_count": 174,
      "outputs": [
        {
          "output_type": "stream",
          "name": "stdout",
          "text": [
            "Label predicted is :  7\n"
          ]
        },
        {
          "output_type": "display_data",
          "data": {
            "text/plain": [
              "<Figure size 432x288 with 1 Axes>"
            ],
            "image/png": "[encoded data removed]"
          },
          "metadata": {
            "needs_background": "light"
          }
        },
        {
          "output_type": "stream",
          "name": "stdout",
          "text": [
            "------------------------------------------------------------\n",
            "Label predicted is :  5\n"
          ]
        },
        {
          "output_type": "display_data",
          "data": {
            "text/plain": [
              "<Figure size 432x288 with 1 Axes>"
            ],
            "image/png": "[encoded data removed]"
          },
          "metadata": {
            "needs_background": "light"
          }
        },
        {
          "output_type": "stream",
          "name": "stdout",
          "text": [
            "------------------------------------------------------------\n",
            "Label predicted is :  8\n"
          ]
        },
        {
          "output_type": "display_data",
          "data": {
            "text/plain": [
              "<Figure size 432x288 with 1 Axes>"
            ],
            "image/png": "[encoded data removed]"
          },
          "metadata": {
            "needs_background": "light"
          }
        },
        {
          "output_type": "stream",
          "name": "stdout",
          "text": [
            "------------------------------------------------------------\n",
            "Label predicted is :  0\n"
          ]
        },
        {
          "output_type": "display_data",
          "data": {
            "text/plain": [
              "<Figure size 432x288 with 1 Axes>"
            ],
            "image/png": "[encoded data removed]"
          },
          "metadata": {
            "needs_background": "light"
          }
        },
        {
          "output_type": "stream",
          "name": "stdout",
          "text": [
            "------------------------------------------------------------\n",
            "Label predicted is :  9\n"
          ]
        },
        {
          "output_type": "display_data",
          "data": {
            "text/plain": [
              "<Figure size 432x288 with 1 Axes>"
            ],
            "image/png": "[encoded data removed]"
          },
          "metadata": {
            "needs_background": "light"
          }
        },
        {
          "output_type": "stream",
          "name": "stdout",
          "text": [
            "------------------------------------------------------------\n",
            "Label predicted is :  6\n"
          ]
        },
        {
          "output_type": "display_data",
          "data": {
            "text/plain": [
              "<Figure size 432x288 with 1 Axes>"
            ],
            "image/png": "[encoded data removed]"
          },
          "metadata": {
            "needs_background": "light"
          }
        },
        {
          "output_type": "stream",
          "name": "stdout",
          "text": [
            "------------------------------------------------------------\n",
            "Label predicted is :  3\n"
          ]
        },
        {
          "output_type": "display_data",
          "data": {
            "text/plain": [
              "<Figure size 432x288 with 1 Axes>"
            ],
            "image/png": "[encoded data removed]"
          },
          "metadata": {
            "needs_background": "light"
          }
        },
        {
          "output_type": "stream",
          "name": "stdout",
          "text": [
            "------------------------------------------------------------\n",
            "Label predicted is :  4\n"
          ]
        },
        {
          "output_type": "display_data",
          "data": {
            "text/plain": [
              "<Figure size 432x288 with 1 Axes>"
            ],
            "image/png": "[encoded data removed]"
          },
          "metadata": {
            "needs_background": "light"
          }
        },
        {
          "output_type": "stream",
          "name": "stdout",
          "text": [
            "------------------------------------------------------------\n",
            "Label predicted is :  2\n"
          ]
        },
        {
          "output_type": "display_data",
          "data": {
            "text/plain": [
              "<Figure size 432x288 with 1 Axes>"
            ],
            "image/png": "[encoded data removed]"
          },
          "metadata": {
            "needs_background": "light"
          }
        },
        {
          "output_type": "stream",
          "name": "stdout",
          "text": [
            "------------------------------------------------------------\n",
            "Label predicted is :  5\n"
          ]
        },
        {
          "output_type": "display_data",
          "data": {
            "text/plain": [
              "<Figure size 432x288 with 1 Axes>"
            ],
            "image/png": "[encoded data removed]"
          },
          "metadata": {
            "needs_background": "light"
          }
        },
        {
          "output_type": "stream",
          "name": "stdout",
          "text": [
            "------------------------------------------------------------\n"
          ]
        }
      ]
    },
    {
      "cell_type": "code",
      "source": [
        ""
      ],
      "metadata": {
        "id": "p-pOeTewjyab"
      },
      "execution_count": 158,
      "outputs": []
    },
    {
      "cell_type": "code",
      "source": [
        ""
      ],
      "metadata": {
        "id": "Wd1kF8aSlXpr"
      },
      "execution_count": 168,
      "outputs": []
    },
    {
      "cell_type": "code",
      "source": [
        ""
      ],
      "metadata": {
        "id": "26M5_Rq2y-FR"
      },
      "execution_count": null,
      "outputs": []
    },
    {
      "cell_type": "code",
      "source": [
        ""
      ],
      "metadata": {
        "id": "kvK_-HdMy-LC"
      },
      "execution_count": 168,
      "outputs": []
    },
    {
      "cell_type": "code",
      "source": [
        ""
      ],
      "metadata": {
        "id": "pIKcdO_Ck8Rw"
      },
      "execution_count": 166,
      "outputs": []
    },
    {
      "cell_type": "code",
      "source": [
        ""
      ],
      "metadata": {
        "id": "LZ4d-lwkmLDv"
      },
      "execution_count": 166,
      "outputs": []
    },
    {
      "cell_type": "code",
      "source": [
        ""
      ],
      "metadata": {
        "id": "cAgN8ScXmgeO"
      },
      "execution_count": 168,
      "outputs": []
    },
    {
      "cell_type": "code",
      "source": [
        ""
      ],
      "metadata": {
        "id": "U12z3hvonf_E"
      },
      "execution_count": 168,
      "outputs": []
    },
    {
      "cell_type": "code",
      "source": [
        ""
      ],
      "metadata": {
        "id": "Z0UPjwJDkzgY"
      },
      "execution_count": null,
      "outputs": []
    }
  ]
}